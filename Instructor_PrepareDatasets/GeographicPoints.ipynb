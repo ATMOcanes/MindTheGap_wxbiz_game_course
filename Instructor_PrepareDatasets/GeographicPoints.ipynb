{
 "cells": [
  {
   "cell_type": "markdown",
   "id": "ce3299c7-b7b6-43c3-aca6-76c1c4aaf7ab",
   "metadata": {},
   "source": [
    "# define a geographic portfolio of locations\n",
    "chatGPT wrote this code "
   ]
  },
  {
   "cell_type": "code",
   "execution_count": 1,
   "id": "304e3878-0f67-4867-bee2-4f125504b742",
   "metadata": {},
   "outputs": [],
   "source": [
    "import pandas as pd"
   ]
  },
  {
   "cell_type": "code",
   "execution_count": 15,
   "id": "1cda8c21-1293-4241-b795-bb361dfadae2",
   "metadata": {
    "editable": true,
    "slideshow": {
     "slide_type": ""
    },
    "tags": []
   },
   "outputs": [],
   "source": [
    "# Create a DataFrame of points, like US cities with their latitude and longitude\n",
    "cities_data = {\n",
    "    'City': ['New York', 'Los Angeles', 'Chicago', 'Houston', 'Phoenix'],\n",
    "    'Latitude': [40.7128, 34.0522, 41.8781, 29.7604, 33.4484],\n",
    "    'Longitude': [-74.0060, -118.2437, -87.6298, -95.3698, -112.0740]\n",
    "}\n",
    "\n",
    "cities_df = pd.DataFrame(cities_data)\n",
    "cities_df.to_csv('../Jupyter_Notebooks/BiznessSpecificParameters/Geographical_Sampling_Points.csv')"
   ]
  },
  {
   "cell_type": "code",
   "execution_count": 12,
   "id": "e79cc8fb-7f20-4d7d-ab39-7f37b5d0ea9b",
   "metadata": {
    "editable": true,
    "slideshow": {
     "slide_type": ""
    },
    "tags": []
   },
   "outputs": [
    {
     "name": "stdout",
     "output_type": "stream",
     "text": [
      "Geographical_Sampling_Points.csv  SpatialDownscaling_parameters.csv\n",
      "Preparations_CostsBenefits.csv    Weather_PayoutTables_deciles.csv\n"
     ]
    }
   ],
   "source": [
    "!ls ../Jupyter_Notebooks/BiznessSpecificParameters/"
   ]
  },
  {
   "cell_type": "code",
   "execution_count": null,
   "id": "edff8e8b-976f-4a48-b9fb-d0aa06aa16cd",
   "metadata": {},
   "outputs": [],
   "source": []
  }
 ],
 "metadata": {
  "kernelspec": {
   "display_name": "Python 3 (ipykernel)",
   "language": "python",
   "name": "python3"
  },
  "language_info": {
   "codemirror_mode": {
    "name": "ipython",
    "version": 3
   },
   "file_extension": ".py",
   "mimetype": "text/x-python",
   "name": "python",
   "nbconvert_exporter": "python",
   "pygments_lexer": "ipython3",
   "version": "3.8.18"
  }
 },
 "nbformat": 4,
 "nbformat_minor": 5
}
